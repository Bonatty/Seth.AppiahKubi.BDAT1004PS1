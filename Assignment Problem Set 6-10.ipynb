{
 "cells": [
  {
   "cell_type": "markdown",
   "id": "3fda6158",
   "metadata": {},
   "source": [
    "# ASSIGNMENT PROBLEM SET 1"
   ]
  },
  {
   "cell_type": "markdown",
   "id": "24e2abfb",
   "metadata": {},
   "source": [
    "# Problem Set Assignment Question 6\n",
    "\n",
    "##You can turn a word into pig-Latin using the following two rules (simplified): \n",
    "#If the word starts with a consonant, move that letter to the end and append 'ay'.\n",
    "#For example, 'happy' becomes 'appyhay' and 'pencil' becomes 'encilpay'.\n",
    "#If the word starts with a vowel, simply append 'way' to the end of the word. For example, 'enter' becomes 'enterway' and 'other' becomes 'otherway' . For our purposes, there are 5 vowels: a, e, i, o, u (so we count y as a consonant). Write a function pig() that takes a word (i.e., a string) as input and returns its pigLatin form. Your function should still work if the input word contains upper case characters. Your output should always be lower case however.\n",
    "#>>> pig('happy')\n",
    "#'appyhay'\n",
    "#>>> pig('Enter')\n",
    "#'enterway'\n",
    "#==========================================================================================================================\n",
    "\n"
   ]
  },
  {
   "cell_type": "code",
   "execution_count": 18,
   "id": "0a406b30",
   "metadata": {
    "scrolled": false
   },
   "outputs": [
    {
     "name": "stdout",
     "output_type": "stream",
     "text": [
      "appyhay\n",
      "Enterday\n"
     ]
    }
   ],
   "source": [
    "vowel = ['a', 'e', 'i', 'o', 'u']  #Here, I have defined my vowels\n",
    "def pig(word): \n",
    "    seth = word.lower()\n",
    "    if word[0].lower() in vowel: #Here, I will check if first letter is vowel or not  \n",
    "        seth = word+'day' # Here I will append the word'day'\n",
    "    else:\n",
    "        X = word[0] # Here, I will get the first char of word\n",
    "        seth = word[1:]+word[0]+'ay' # Here, I will get the word without first char and append first char and then 'ay' to end \n",
    "    print(seth) \n",
    "    \n",
    "pig('happy')\n",
    "pig('Enter')"
   ]
  },
  {
   "cell_type": "markdown",
   "id": "504ee0c7",
   "metadata": {},
   "source": [
    "# Problem Set Assignment Question 7\n",
    "\n",
    "#File bloodtype1.txt records blood-types of patients (A, B, AB, O or OO) at a clinic. \n",
    "#Write a function bldcount() that reads the file with name name and reports (i.e., prints) how many patients there are in each bloodtype.\n",
    "#===========================================================================================================================\n",
    "\n"
   ]
  },
  {
   "cell_type": "code",
   "execution_count": 19,
   "id": "bc2e5e58",
   "metadata": {},
   "outputs": [
    {
     "name": "stdout",
     "output_type": "stream",
     "text": [
      "There are 15 Patients of Blood type  A.\n",
      "There is A patient of the Blood type  B\n",
      "There are 13 Patients of Blood type  AB.\n",
      "There are 15 Patients of Blood type  O.\n",
      "There is No Patient of the Blood type  OO\n"
     ]
    }
   ],
   "source": [
    "Text = open('bloodtypedata.txt') #Here, I will open the File\n",
    "seth = Text.read() #Here, I will read whole file\n",
    "Text.close() # Here, I will close the file\n",
    "bloodlist=seth.split() #Here, I will split the data and add to wordlist for frequnecy count\n",
    "\n",
    "bloodtypeinfo=['A','B','AB','O','OO']\n",
    "for i in bloodtypeinfo:\n",
    "    if bloodlist.count(i)==1:\n",
    "        print(\"There is A patient of the Blood type \",i) #Here, I will make the string format and count the value present in list\n",
    "    elif bloodlist.count(i)==0:\n",
    "        print(\"There is No Patient of the Blood type \",i)\n",
    "    else :\n",
    "        print(\"There are {a} Patients of Blood type  {value}.\".format(a=bloodlist.count(i),value=i))"
   ]
  },
  {
   "cell_type": "markdown",
   "id": "5a2bc7b9",
   "metadata": {},
   "source": [
    "# Problem Set Assignment Question 8\n",
    "\n",
    "#Write a function curconv() that takes as input:\n",
    "#a currency represented using a string (e.g., 'JPY' for the Japanese Yen or'EUR' for the Euro)\n",
    "#an amount and then converts and returns the amount in US dollars.\n",
    "#>>> curconv('EUR', 100)\n",
    "#122.96544\n",
    "#>>> curconv('JPY', 100)\n",
    "#1.241401\n",
    "#==============================================================================================================\n",
    "\n"
   ]
  },
  {
   "cell_type": "code",
   "execution_count": 20,
   "id": "277a13e7",
   "metadata": {},
   "outputs": [
    {
     "name": "stdout",
     "output_type": "stream",
     "text": [
      "122.96544\n",
      "1.241401\n"
     ]
    }
   ],
   "source": [
    "Text = open('currenciesdata.txt')# Here I will open the File currencies data\n",
    "seth = Text.readlines() #Here I will read the line by line and store in list \n",
    "nana = {} # Here I will leave a blank dictionary for data storage\n",
    "\n",
    "for i in seth:\n",
    "    a=i.split() # Here, I will split into the words of line from file stored in list \n",
    "    nana[a[0]]=float(a[1]) # Here I will store the dic with curr label and rate \n",
    "    \n",
    "def curconv(curr,amt): #Here, I will define the fun\n",
    "    r = nana.get(curr) #Here I will get the value from dic as per curr given in argument\n",
    "    final_amount=amt*r # Here, I will calculate the rate\n",
    "    print(final_amount)\n",
    "\n",
    "curconv('EUR', 100)\n",
    "curconv('JPY', 100)"
   ]
  },
  {
   "cell_type": "markdown",
   "id": "b28b51ba",
   "metadata": {},
   "source": [
    "# Problem Set Assignment Question 9_1\n",
    "\n",
    "#Each of the following will cause an exception (an error).\n",
    "#Identify what type ofexception each will cause. Trying to add incompatible variables, as inadding 6 + ‘a’\n"
   ]
  },
  {
   "cell_type": "code",
   "execution_count": 21,
   "id": "c123d3f7",
   "metadata": {},
   "outputs": [
    {
     "ename": "TypeError",
     "evalue": "unsupported operand type(s) for +: 'int' and 'str'",
     "output_type": "error",
     "traceback": [
      "\u001b[1;31m---------------------------------------------------------------------------\u001b[0m",
      "\u001b[1;31mTypeError\u001b[0m                                 Traceback (most recent call last)",
      "Cell \u001b[1;32mIn[21], line 1\u001b[0m\n\u001b[1;32m----> 1\u001b[0m \u001b[38;5;28mprint\u001b[39m(\u001b[38;5;241m6\u001b[39m \u001b[38;5;241m+\u001b[39m\u001b[38;5;124m'\u001b[39m\u001b[38;5;124ma\u001b[39m\u001b[38;5;124m'\u001b[39m)\n",
      "\u001b[1;31mTypeError\u001b[0m: unsupported operand type(s) for +: 'int' and 'str'"
     ]
    }
   ],
   "source": [
    "print(6 +'a') \n",
    "# TypeError bcz 6 is Integer and 'a' is string and + is concatination operator /addtion \n",
    "#but they need same datatype of values to perform operation so TypeError exception occcured. This means that you cannot perform addition between an integer and a string directly."
   ]
  },
  {
   "cell_type": "markdown",
   "id": "8c6996cc",
   "metadata": {},
   "source": [
    "#Problem Set Assignment Question 9_2\n",
    "\n",
    "#Referring to the 12th item of a list that has only 10items.\n"
   ]
  },
  {
   "cell_type": "code",
   "execution_count": 22,
   "id": "f1c6ec1c",
   "metadata": {},
   "outputs": [
    {
     "ename": "IndexError",
     "evalue": "list index out of range",
     "output_type": "error",
     "traceback": [
      "\u001b[1;31m---------------------------------------------------------------------------\u001b[0m",
      "\u001b[1;31mIndexError\u001b[0m                                Traceback (most recent call last)",
      "Cell \u001b[1;32mIn[22], line 2\u001b[0m\n\u001b[0;32m      1\u001b[0m seth \u001b[38;5;241m=\u001b[39m [\u001b[38;5;241m0\u001b[39m,\u001b[38;5;241m1\u001b[39m,\u001b[38;5;241m2\u001b[39m,\u001b[38;5;241m3\u001b[39m,\u001b[38;5;241m4\u001b[39m,\u001b[38;5;241m5\u001b[39m,\u001b[38;5;241m6\u001b[39m,\u001b[38;5;241m7\u001b[39m,\u001b[38;5;241m8\u001b[39m,\u001b[38;5;241m9\u001b[39m]\n\u001b[1;32m----> 2\u001b[0m \u001b[38;5;28mprint\u001b[39m(seth[\u001b[38;5;241m12\u001b[39m]) \n\u001b[0;32m      3\u001b[0m \u001b[38;5;124;03m\"\"\" list index is out of range bcz only 10 elements were there with last index value of 9 and we are requesting \u001b[39;00m\n\u001b[0;32m      4\u001b[0m \u001b[38;5;124;03mfor value at index 12 \"\"\"\u001b[39;00m\n",
      "\u001b[1;31mIndexError\u001b[0m: list index out of range"
     ]
    }
   ],
   "source": [
    "seth = [0,1,2,3,4,5,6,7,8,9]\n",
    "print(seth[12]) \n",
    "\"\"\" list index is out of range bcz only 10 elements were there with last index value of 9 and we are requesting \n",
    "for value at index 12 \"\"\"\n",
    "#This error occurs when you try to access an index that is out of the range of the list."
   ]
  },
  {
   "cell_type": "markdown",
   "id": "38754a6e",
   "metadata": {},
   "source": [
    "# Problem Set Assignment Question 9_3\n",
    "\n",
    "#Using a value that is out of range for a function’sinput, such as calling math.sqrt(-1.0)\n"
   ]
  },
  {
   "cell_type": "code",
   "execution_count": 23,
   "id": "08fc9e90",
   "metadata": {},
   "outputs": [
    {
     "ename": "ValueError",
     "evalue": "math domain error",
     "output_type": "error",
     "traceback": [
      "\u001b[1;31m---------------------------------------------------------------------------\u001b[0m",
      "\u001b[1;31mValueError\u001b[0m                                Traceback (most recent call last)",
      "Cell \u001b[1;32mIn[23], line 2\u001b[0m\n\u001b[0;32m      1\u001b[0m \u001b[38;5;28;01mimport\u001b[39;00m \u001b[38;5;21;01mmath\u001b[39;00m\n\u001b[1;32m----> 2\u001b[0m \u001b[38;5;28mprint\u001b[39m(math\u001b[38;5;241m.\u001b[39msqrt(\u001b[38;5;241m-\u001b[39m\u001b[38;5;241m1.0\u001b[39m))\n",
      "\u001b[1;31mValueError\u001b[0m: math domain error"
     ]
    }
   ],
   "source": [
    "import math\n",
    "print(math.sqrt(-1.0))\n",
    "\n",
    "#squre root of negative value is not possible in real number thats why error is math doamin error \n",
    "#square root of -1 is imaginory number\n",
    "#The math.sqrt function expects a non-negative input, and passing a negative number will result in a ValueError."
   ]
  },
  {
   "cell_type": "markdown",
   "id": "e67c5d64",
   "metadata": {},
   "source": [
    "# Problem Set Assignment Question 9_4\n",
    "\n",
    "#Using an undeclared variable, such as print(x) when x has not been defined \n"
   ]
  },
  {
   "cell_type": "code",
   "execution_count": 24,
   "id": "a9769aab",
   "metadata": {},
   "outputs": [
    {
     "ename": "NameError",
     "evalue": "name 'x' is not defined",
     "output_type": "error",
     "traceback": [
      "\u001b[1;31m---------------------------------------------------------------------------\u001b[0m",
      "\u001b[1;31mNameError\u001b[0m                                 Traceback (most recent call last)",
      "Cell \u001b[1;32mIn[24], line 1\u001b[0m\n\u001b[1;32m----> 1\u001b[0m \u001b[38;5;28mprint\u001b[39m(x)\n",
      "\u001b[1;31mNameError\u001b[0m: name 'x' is not defined"
     ]
    }
   ],
   "source": [
    "print(x)\n",
    "#Name error bcz variable x is not defined by us so we cannot call it. This error occurs when you try to use a variable that has not been defined in the current scope."
   ]
  },
  {
   "cell_type": "markdown",
   "id": "676ad7eb",
   "metadata": {},
   "source": [
    "# Problem Set Assignment Question 9_5\n",
    "\n",
    "# Here, I am trying to open a file that does not exist, such asmistyping the file name or looking in the wrong directory.\n",
    "\n",
    "seth = open('bloodtypedata.txt')\n",
    "#Filenotfound error bcz neither this file nor directory exsits in the rootdirectory. his error occurs when you attempt to open a file that cannot be found at the specified location.\n"
   ]
  },
  {
   "cell_type": "markdown",
   "id": "45b280b5",
   "metadata": {},
   "source": [
    "# Problem Set Assignment Question 10\n",
    "\n",
    "#Encryption is the process of hiding the meaning of a text by substituting letters in themessage with other letters, according to some system.\n",
    "#If the process is successful, noone but the intended recipient can understand the encrypted message. \n",
    "#Cryptanalysis refers to attempts to undo the encryption, even if some details of the encryption are unknown (for example, if an encrypted message has been intercepted).\n",
    "#The first stepof cryptanalysis is often to build up a table of letter frequencies in the encrypted text.\n",
    "#Assume that the string letters is already defined as 'abcdefghijklmnopqrstuvwxyz'.\n",
    "#Write a function called frequencies()that takes a string as its only parameter, and returns a list of integers, showing the number of times each character appears in the text. \n",
    "#Your function may ignore anycharacters that are not in letters.\n",
    "#>>> frequencies('The quick red fox got bored and went home.')\n",
    "#[1, 1, 1, 3, 5, 1, 1, 2, 1, 0, 1, 0, 1, 2, 4, 0, 1, 2, 0, 2,1, 0, 1, 1, 0, 0]\n",
    "#>>> frequencies('apple')\n",
    "\n",
    "\n"
   ]
  },
  {
   "cell_type": "code",
   "execution_count": 26,
   "id": "cf23fdba",
   "metadata": {},
   "outputs": [
    {
     "name": "stdout",
     "output_type": "stream",
     "text": [
      "[1, 1, 1, 3, 5, 1, 1, 2, 1, 0, 1, 0, 1, 2, 4, 0, 1, 2, 0, 2, 1, 0, 1, 1, 0, 0]\n",
      "[1, 0, 0, 0, 1, 0, 0, 0, 0, 0, 0, 1, 0, 0, 0, 2, 0, 0, 0, 0, 0, 0, 0, 0, 0, 0]\n"
     ]
    }
   ],
   "source": [
    "X = 'abcdefghijklmnopqrstuvwxyz' #Here, I have given char for the frequency count\n",
    "seth = list(X) #Here I have converted the string into char list \n",
    "\n",
    "def frequencies(str): #Here, I will define the Fun\n",
    "    nana = [] #Here, I will list to store frequencey count of every count of char in input string \n",
    "\n",
    "    for i in seth: #Here, for evry char in list alha\n",
    "        nana.append(str.count(i)) #Here, I will count the char how many time present in input string\n",
    "    print(nana)\n",
    "\n",
    "frequencies('The quick red fox got bored and went home.')\n",
    "frequencies('apple')"
   ]
  },
  {
   "cell_type": "code",
   "execution_count": null,
   "id": "98f27cc3",
   "metadata": {},
   "outputs": [],
   "source": []
  }
 ],
 "metadata": {
  "kernelspec": {
   "display_name": "Python 3 (ipykernel)",
   "language": "python",
   "name": "python3"
  },
  "language_info": {
   "codemirror_mode": {
    "name": "ipython",
    "version": 3
   },
   "file_extension": ".py",
   "mimetype": "text/x-python",
   "name": "python",
   "nbconvert_exporter": "python",
   "pygments_lexer": "ipython3",
   "version": "3.11.4"
  }
 },
 "nbformat": 4,
 "nbformat_minor": 5
}
